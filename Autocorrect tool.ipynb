{
  "cells": [
    {
      "cell_type": "markdown",
      "source": [
        "# **AUTO CORRECT TOOL**"
      ],
      "metadata": {
        "id": "W62cktbM1gzi"
      }
    },
    {
      "cell_type": "code",
      "source": [
        "import os\n",
        "#import re\n",
        "import numpy as np\n",
        "import pandas as pd\n",
        "from collections import Counter\n",
        "import nltk"
      ],
      "metadata": {
        "id": "geaYWF_c1lnp"
      },
      "execution_count": 1,
      "outputs": []
    },
    {
      "cell_type": "code",
      "source": [
        "file_path = \"/content/words.txt\"\n",
        "with open(file_path, 'r', encoding='ISO-8859-1') as f:\n",
        "    file = f.readlines()"
      ],
      "metadata": {
        "id": "lVp2JDYi1qhq"
      },
      "execution_count": 6,
      "outputs": []
    },
    {
      "cell_type": "code",
      "source": [
        "def process_data(lines):\n",
        "    words = []\n",
        "    for line in lines:\n",
        "        line = line.strip().lower()\n",
        "        #word = re.findall(r'\\w+', line)\n",
        "        word=line.split()\n",
        "        words.extend(word)\n",
        "    return words"
      ],
      "metadata": {
        "id": "d7qZOxoy3XTU"
      },
      "execution_count": 7,
      "outputs": []
    },
    {
      "cell_type": "code",
      "source": [
        "word_l = process_data(file)\n",
        "vocab = set(word_l)"
      ],
      "metadata": {
        "id": "Rd9wPJiM3aOI"
      },
      "execution_count": 8,
      "outputs": []
    },
    {
      "cell_type": "code",
      "source": [
        "def find_wrong_word(sent, vocab):\n",
        "    wrong_words = []\n",
        "    sent = sent.strip().lower().split(\" \")\n",
        "    for word in sent:\n",
        "        if word not in vocab:\n",
        "            wrong_words.append(word)\n",
        "    return wrong_words"
      ],
      "metadata": {
        "id": "_HMAhA8D3cva"
      },
      "execution_count": 9,
      "outputs": []
    },
    {
      "cell_type": "code",
      "source": [
        "def switch_letter(word, verbose=False):\n",
        "    switch_l = []\n",
        "    split_l = [(word[:i], word[i:]) for i in range(len(word))]\n",
        "    for s in split_l:\n",
        "        if len(s[1])>2:\n",
        "            temp = s[0] + s[1][1] + s[1][0] + s[1][2:]\n",
        "        elif len(s[1]) == 2:\n",
        "            temp = s[0] + s[1][1] + s[1][0]\n",
        "        elif len(s[1]) == 1:\n",
        "            continue\n",
        "        switch_l.append(temp)\n",
        "    return switch_l"
      ],
      "metadata": {
        "id": "sFRJJ5f23gTA"
      },
      "execution_count": 10,
      "outputs": []
    },
    {
      "cell_type": "code",
      "source": [
        "def replace_letter(word, verbose=False):\n",
        "    letters = 'abcdefghijklmnopqrstuvwxyz'\n",
        "    replace_l = []\n",
        "    split_l = [(word[:i], word[i:]) for i in range(len(word))]\n",
        "    for s in split_l:\n",
        "        if len(s[1]) == 1:\n",
        "            for l in letters:\n",
        "                if l != s[1][0]:\n",
        "                    temp = l\n",
        "                    replace_l.append(s[0]+temp)\n",
        "        elif len(s) > 1:\n",
        "            for l in letters:\n",
        "                if l != s[1][0]:\n",
        "                    temp = l + s[1][1:]\n",
        "                    replace_l.append(s[0]+temp)\n",
        "\n",
        "    replace_set = set(replace_l)\n",
        "    replace_l = sorted(list(replace_set))\n",
        "    return replace_l"
      ],
      "metadata": {
        "id": "pcgUjQGY3i8e"
      },
      "execution_count": 11,
      "outputs": []
    },
    {
      "cell_type": "code",
      "source": [
        "def insert_letter(word, verbose=False):\n",
        "    letters = 'abcdefghijklmnopqrstuvwxyz'\n",
        "    insert_l = []\n",
        "    split_l = [(word[:i], word[i:]) for i in range(len(word)+1)]\n",
        "    for s in split_l:\n",
        "        for l in letters:\n",
        "            insert_l.append(s[0]+l+s[1])\n",
        "    return insert_l"
      ],
      "metadata": {
        "id": "RfucaABZ3l4b"
      },
      "execution_count": 12,
      "outputs": []
    },
    {
      "cell_type": "code",
      "source": [
        "def delete_letter(word, verbose=False):\n",
        "    split_l = [(word[:i], word[i:]) for i in range(len(word))]\n",
        "    delete_l = [s[0]+s[1][1:] for s in split_l]\n",
        "    return delete_l"
      ],
      "metadata": {
        "id": "E2OnjHE_3ozH"
      },
      "execution_count": 13,
      "outputs": []
    },
    {
      "cell_type": "code",
      "source": [
        "def edit_one_letter(word, allow_switches = True):\n",
        "    edit_one_set = set()\n",
        "    insert_l = insert_letter(word)\n",
        "    delete_l = delete_letter(word)\n",
        "    replace_l = replace_letter(word)\n",
        "    switch_l = switch_letter(word)\n",
        "\n",
        "    if allow_switches:\n",
        "        ans = insert_l + delete_l + replace_l + switch_l\n",
        "    else:\n",
        "        ans = insert_l + delete_l + replace_l\n",
        "    edit_one_set = set(ans)\n",
        "    return edit_one_set"
      ],
      "metadata": {
        "id": "WC0_mCPG3q-q"
      },
      "execution_count": 14,
      "outputs": []
    },
    {
      "cell_type": "code",
      "source": [
        "def edit_two_letters(word, allow_switches = True):\n",
        "    edit_two_set = set()\n",
        "    one_edit = edit_one_letter(word)\n",
        "    ans = []\n",
        "    for w in one_edit:\n",
        "        ans.append(w)\n",
        "        ans.extend(edit_one_letter(w))\n",
        "    edit_two_set = set(ans)\n",
        "    return edit_two_set"
      ],
      "metadata": {
        "id": "4jjE5_HO3uCo"
      },
      "execution_count": 15,
      "outputs": []
    },
    {
      "cell_type": "code",
      "source": [
        "def get_count(word_l):\n",
        "    word_count_dict = {}\n",
        "    word_count_dict = Counter(word_l)\n",
        "    return word_count_dict\n",
        "\n",
        "def get_probs(word_count_dict):\n",
        "    probs = {}\n",
        "    total = 1\n",
        "    for word in word_count_dict.keys():\n",
        "        total = total + word_count_dict[word]\n",
        "    for word in word_count_dict.keys():\n",
        "        probs[word] = word_count_dict[word]/total\n",
        "    return probs"
      ],
      "metadata": {
        "id": "M8KkjQ9U3wRF"
      },
      "execution_count": 16,
      "outputs": []
    },
    {
      "cell_type": "code",
      "source": [
        "def get_corrections(word, probs, vocab, n=2, verbose = False):\n",
        "    suggestions = []\n",
        "    n_best = []\n",
        "    if word in probs.keys():\n",
        "        suggestions.append(word)\n",
        "    for w in edit_one_letter(word):\n",
        "        if len(suggestions) == n:\n",
        "            break\n",
        "        if w in probs.keys():\n",
        "            suggestions.append(w)\n",
        "    for w in edit_two_letters(word):\n",
        "        if len(suggestions) == n:\n",
        "            break\n",
        "        if w in probs.keys():\n",
        "             suggestions.append(w)\n",
        "    best_words = {}\n",
        "    for s in suggestions:\n",
        "        best_words[s] = probs[s]\n",
        "    best_words = sorted(best_words.items(), key=lambda x: x[1], reverse=True)\n",
        "    n_best = best_words\n",
        "    return n_best"
      ],
      "metadata": {
        "id": "HFmReKlD3zoO"
      },
      "execution_count": 17,
      "outputs": []
    },
    {
      "cell_type": "code",
      "source": [
        "def get_correct_word(word, vocab, probs, n):\n",
        "    corrections = get_corrections(word, probs, vocab, n, verbose=False)\n",
        "    if len(corrections) == 0:\n",
        "        return word\n",
        "    final_word = corrections[0][0]\n",
        "    final_prob = corrections[0][1]\n",
        "    for i, word_prob in enumerate(corrections):\n",
        "        if word_prob[1] > final_prob:\n",
        "            final_word = word_prob[0]\n",
        "            final_prob = word_prob[1]\n",
        "    return final_word"
      ],
      "metadata": {
        "id": "jmtaYHVt32KZ"
      },
      "execution_count": 18,
      "outputs": []
    },
    {
      "cell_type": "code",
      "source": [
        "def autocorrect(sentence, vocab, probs):\n",
        "    wrong_words = find_wrong_word(sentence, vocab)\n",
        "    #print(\"Wrong words : \", wrong_words)\n",
        "    correct_words = []\n",
        "    for word in sentence.strip().lower().split(\" \"):\n",
        "        if word in wrong_words:\n",
        "            correct_word = get_correct_word(word, vocab, probs, 15)\n",
        "            word = correct_word\n",
        "        correct_words.append(word)\n",
        "    print(\"The corrected Sentence : \", \" \".join(correct_words).capitalize())\n",
        "\n",
        "sent=input('Enter a sentence: ')\n",
        "wrong_words=find_wrong_word(sent, vocab)\n",
        "for W in wrong_words:\n",
        "    word_count_dict=get_count(word_l)\n",
        "    probs=get_probs(word_count_dict)\n",
        "autocorrect(sent,vocab,probs)"
      ],
      "metadata": {
        "colab": {
          "base_uri": "https://localhost:8080/"
        },
        "id": "eQgoyN6k35PQ",
        "outputId": "38e79dc3-d0f8-4b78-88a2-5b61749671e2"
      },
      "execution_count": 20,
      "outputs": [
        {
          "output_type": "stream",
          "name": "stdout",
          "text": [
            "Enter a sentence: Introducktion to Manegementt\n",
            "The corrected Sentence :  Introduction to management\n"
          ]
        }
      ]
    }
  ],
  "metadata": {
    "colab": {
      "name": "Welcome To Colaboratory",
      "provenance": []
    },
    "kernelspec": {
      "display_name": "Python 3",
      "name": "python3"
    }
  },
  "nbformat": 4,
  "nbformat_minor": 0
}